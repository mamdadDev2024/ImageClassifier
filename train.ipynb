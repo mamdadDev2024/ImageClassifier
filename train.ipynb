{
 "cells": [
  {
   "cell_type": "code",
   "execution_count": 1,
   "id": "575f161c",
   "metadata": {},
   "outputs": [],
   "source": [
    "from model import Classifier\n"
   ]
  },
  {
   "cell_type": "code",
   "execution_count": null,
   "id": "62ac0f12",
   "metadata": {},
   "outputs": [],
   "source": [
    "clf = Classifier(\n",
    "    'data'\n",
    ")"
   ]
  },
  {
   "cell_type": "code",
   "execution_count": null,
   "id": "ac561a26",
   "metadata": {},
   "outputs": [],
   "source": [
    "clf.train()"
   ]
  },
  {
   "cell_type": "code",
   "execution_count": null,
   "id": "be9032b2",
   "metadata": {},
   "outputs": [],
   "source": [
    "clf.plot_metrics()"
   ]
  },
  {
   "cell_type": "code",
   "execution_count": null,
   "id": "fabccae5",
   "metadata": {},
   "outputs": [],
   "source": [
    "clf.save_model()\n"
   ]
  }
 ],
 "metadata": {
  "kernelspec": {
   "display_name": ".venv",
   "language": "python",
   "name": "python3"
  },
  "language_info": {
   "codemirror_mode": {
    "name": "ipython",
    "version": 3
   },
   "file_extension": ".py",
   "mimetype": "text/x-python",
   "name": "python",
   "nbconvert_exporter": "python",
   "pygments_lexer": "ipython3",
   "version": "3.10.0"
  }
 },
 "nbformat": 4,
 "nbformat_minor": 5
}
