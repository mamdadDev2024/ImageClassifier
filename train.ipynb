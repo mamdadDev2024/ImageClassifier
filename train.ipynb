{
 "cells": [
  {
   "cell_type": "code",
   "execution_count": 1,
   "id": "575f161c",
   "metadata": {},
   "outputs": [],
   "source": [
    "# وارد کردن کلاس طبقه بندی کننده از همین مسیر\n",
    "\n",
    "from src.model import Classifier"
   ]
  },
  {
   "cell_type": "code",
   "execution_count": null,
   "id": "62ac0f12",
   "metadata": {},
   "outputs": [],
   "source": [
    "# ایجاد نمونه کلاس طبقه بندی کننده و ارائه فولدر داده ها و انجام عملیات های نرمال سازی و پیش پردازش داده ها در متد سازنده\n",
    "\n",
    "clf = Classifier(\n",
    "    'data'\n",
    ")"
   ]
  },
  {
   "cell_type": "code",
   "execution_count": null,
   "id": "ac561a26",
   "metadata": {},
   "outputs": [],
   "source": [
    "# شروع آموزش بر روی داده های کلاس های درون فولدر مد نظر\n",
    "\n",
    "clf.train()"
   ]
  },
  {
   "cell_type": "code",
   "execution_count": null,
   "id": "be9032b2",
   "metadata": {},
   "outputs": [],
   "source": [
    "# نمایش عملکرد مدل\n",
    "\n",
    "clf.plot_metrics()"
   ]
  },
  {
   "cell_type": "code",
   "execution_count": null,
   "id": "fabccae5",
   "metadata": {},
   "outputs": [],
   "source": [
    "# ذخیره مدل در پوشه اصلی \n",
    "# حجم مدل در حدود 90 مگابایت هست\n",
    "clf.save_model()\n"
   ]
  },
  {
   "cell_type": "code",
   "execution_count": null,
   "id": "3ae93f58",
   "metadata": {},
   "outputs": [],
   "source": [
    "# آزمایش پیش بینی مدل بر روی تصویر نمونه\n",
    "\n",
    "import io\n",
    "import numpy as np\n",
    "import tensorflow as tf\n",
    "from PIL import Image \n",
    "\n",
    "def preprocess_image(image_bytes):\n",
    "    image = Image.open(io.BytesIO(image_bytes)).convert('RGB')\n",
    "    image = image.resize((256, 256))\n",
    "    img_array = np.array(image) / 255.0\n",
    "    img_array = np.expand_dims(img_array, axis=0)  # [1, 256, 256, 3]\n",
    "    return img_array\n",
    "\n",
    "def predict_testing(file):\n",
    "    model = tf.keras.models.load_model('src/simple_model.keras')\n",
    "\n",
    "    with open(file, 'rb') as f:\n",
    "        image_bytes = f.read()\n",
    "\n",
    "    img_tensor = preprocess_image(image_bytes)\n",
    "    prediction = model.predict(img_tensor)\n",
    "\n",
    "    print(prediction)\n"
   ]
  },
  {
   "cell_type": "code",
   "execution_count": null,
   "id": "682a913d",
   "metadata": {},
   "outputs": [],
   "source": [
    "# وارد کردن فایل API برای اجرای وب سرور به صورت API\n",
    "from src.API import app"
   ]
  },
  {
   "cell_type": "code",
   "execution_count": null,
   "id": "d5cdfd6f",
   "metadata": {},
   "outputs": [],
   "source": [
    "# اجرای وب سرور\n",
    "app.run(debug=False, port=5050)"
   ]
  },
  {
   "cell_type": "code",
   "execution_count": null,
   "id": "7984a09e",
   "metadata": {},
   "outputs": [],
   "source": [
    "# اجرای تست پیش بینی\n",
    "predict_testing('test.png')"
   ]
  }
 ],
 "metadata": {
  "kernelspec": {
   "display_name": ".venv",
   "language": "python",
   "name": "python3"
  },
  "language_info": {
   "codemirror_mode": {
    "name": "ipython",
    "version": 3
   },
   "file_extension": ".py",
   "mimetype": "text/x-python",
   "name": "python",
   "nbconvert_exporter": "python",
   "pygments_lexer": "ipython3",
   "version": "3.10.0"
  }
 },
 "nbformat": 4,
 "nbformat_minor": 5
}
